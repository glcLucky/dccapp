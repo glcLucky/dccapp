{
 "cells": [
  {
   "cell_type": "code",
   "execution_count": 1,
   "metadata": {
    "ExecuteTime": {
     "end_time": "2020-08-21T09:23:22.034164Z",
     "start_time": "2020-08-21T09:23:21.649107Z"
    }
   },
   "outputs": [
    {
     "data": {
      "text/html": [
       "<style>.container { width:80% !important; }</style>"
      ],
      "text/plain": [
       "<IPython.core.display.HTML object>"
      ]
     },
     "metadata": {},
     "output_type": "display_data"
    }
   ],
   "source": [
    "# hide pakcage non critical warnings\n",
    "\n",
    "import warnings\n",
    "\n",
    "warnings.filterwarnings('ignore')\n",
    "\n",
    "from IPython.core.display import display, HTML\n",
    "display(HTML(\"<style>.container { width:80% !important; }</style>\"))\n",
    "\n",
    "\n",
    "%load_ext autoreload\n",
    "%autoreload 2\n",
    "\n",
    "%matplotlib inline"
   ]
  },
  {
   "cell_type": "code",
   "execution_count": 4,
   "metadata": {
    "ExecuteTime": {
     "end_time": "2020-08-21T09:59:54.665089Z",
     "start_time": "2020-08-21T09:59:54.601422Z"
    }
   },
   "outputs": [],
   "source": [
    "from easydict import EasyDict as edict\n",
    "\n"
   ]
  },
  {
   "cell_type": "code",
   "execution_count": 2,
   "metadata": {
    "ExecuteTime": {
     "end_time": "2020-08-21T09:23:30.661258Z",
     "start_time": "2020-08-21T09:23:29.094078Z"
    }
   },
   "outputs": [],
   "source": [
    "import matplotlib.pyplot as plt\n",
    "\n",
    "import scipy.io as sio\n",
    "\n",
    "import torch\n",
    "import torch.nn as nn\n",
    "\n",
    "import torch.nn.functional as F\n",
    "import torch.nn.init as init\n",
    "\n",
    "from custom_data import DCCPT_data\n",
    "\n",
    "from config import cfg, get_data_dir, get_output_dir, AverageMeter, remove_files_in_dir\n",
    "from convSDAE import convSDAE\n",
    "from tensorboard_logger import Logger\n",
    "\n",
    "import os\n",
    "import random\n",
    "import numpy as np\n",
    "\n",
    "import data_params as dp"
   ]
  },
  {
   "cell_type": "code",
   "execution_count": 16,
   "metadata": {
    "ExecuteTime": {
     "end_time": "2020-08-21T10:06:10.162778Z",
     "start_time": "2020-08-21T10:06:10.089387Z"
    }
   },
   "outputs": [],
   "source": [
    "args = edict()\n",
    "args.db = 'cmnist'\n",
    "args.dim = 10"
   ]
  },
  {
   "cell_type": "code",
   "execution_count": 5,
   "metadata": {
    "ExecuteTime": {
     "end_time": "2020-08-21T10:01:36.389958Z",
     "start_time": "2020-08-21T10:01:36.230355Z"
    }
   },
   "outputs": [],
   "source": [
    "params = {'nlayers':4, 'dropout':0.2, 'reluslope':0.0,\n",
    "          'nepoch':200, 'lrate':[10], 'wdecay':[0.0], 'step':20}"
   ]
  },
  {
   "cell_type": "code",
   "execution_count": 8,
   "metadata": {
    "ExecuteTime": {
     "end_time": "2020-08-21T10:01:58.839569Z",
     "start_time": "2020-08-21T10:01:58.770001Z"
    }
   },
   "outputs": [],
   "source": [
    "net_convAE = dp.load_predefined_net(args, params)"
   ]
  },
  {
   "cell_type": "code",
   "execution_count": 18,
   "metadata": {
    "ExecuteTime": {
     "end_time": "2020-08-21T10:06:22.215101Z",
     "start_time": "2020-08-21T10:06:22.142673Z"
    }
   },
   "outputs": [],
   "source": [
    "net_extract = dp.load_predefined_extract_net(args)"
   ]
  },
  {
   "cell_type": "code",
   "execution_count": 19,
   "metadata": {
    "ExecuteTime": {
     "end_time": "2020-08-21T10:06:27.254610Z",
     "start_time": "2020-08-21T10:06:27.183496Z"
    }
   },
   "outputs": [
    {
     "data": {
      "text/plain": [
       "extractconvSDAE(\n",
       "  (enc_0): Conv2d(1, 50, kernel_size=(4, 4), stride=(2, 2), padding=(1, 1))\n",
       "  (benc_0): BatchNorm2d(50, eps=1e-05, momentum=0.1, affine=True, track_running_stats=True)\n",
       "  (dec_0): ConvTranspose2d(50, 1, kernel_size=(4, 4), stride=(2, 2), padding=(1, 1))\n",
       "  (bdec_0): BatchNorm2d(1, eps=1e-05, momentum=0.1, affine=True, track_running_stats=True)\n",
       "  (enc_1): Conv2d(50, 50, kernel_size=(5, 5), stride=(2, 2), padding=(2, 2))\n",
       "  (benc_1): BatchNorm2d(50, eps=1e-05, momentum=0.1, affine=True, track_running_stats=True)\n",
       "  (dec_1): ConvTranspose2d(50, 50, kernel_size=(5, 5), stride=(2, 2), padding=(2, 2), output_padding=(1, 1))\n",
       "  (bdec_1): BatchNorm2d(50, eps=1e-05, momentum=0.1, affine=True, track_running_stats=True)\n",
       "  (enc_2): Conv2d(50, 50, kernel_size=(5, 5), stride=(2, 2), padding=(2, 2))\n",
       "  (benc_2): BatchNorm2d(50, eps=1e-05, momentum=0.1, affine=True, track_running_stats=True)\n",
       "  (dec_2): ConvTranspose2d(50, 50, kernel_size=(5, 5), stride=(2, 2), padding=(2, 2))\n",
       "  (bdec_2): BatchNorm2d(50, eps=1e-05, momentum=0.1, affine=True, track_running_stats=True)\n",
       "  (enc_3): Linear(in_features=800, out_features=10, bias=True)\n",
       "  (benc_3): BatchNorm2d(10, eps=1e-05, momentum=0.1, affine=True, track_running_stats=True)\n",
       "  (dec_3): ConvTranspose2d(10, 50, kernel_size=(4, 4), stride=(1, 1))\n",
       "  (bdec_3): BatchNorm2d(50, eps=1e-05, momentum=0.1, affine=True, track_running_stats=True)\n",
       ")"
      ]
     },
     "execution_count": 19,
     "metadata": {},
     "output_type": "execute_result"
    }
   ],
   "source": [
    "net_extract"
   ]
  },
  {
   "cell_type": "code",
   "execution_count": 10,
   "metadata": {
    "ExecuteTime": {
     "end_time": "2020-08-21T10:02:11.555483Z",
     "start_time": "2020-08-21T10:02:11.499680Z"
    }
   },
   "outputs": [],
   "source": [
    "from torchsummary import summary\n"
   ]
  },
  {
   "cell_type": "code",
   "execution_count": 12,
   "metadata": {
    "ExecuteTime": {
     "end_time": "2020-08-21T10:03:03.923502Z",
     "start_time": "2020-08-21T10:03:03.755998Z"
    }
   },
   "outputs": [],
   "source": [
    "summary?"
   ]
  },
  {
   "cell_type": "code",
   "execution_count": 21,
   "metadata": {
    "ExecuteTime": {
     "end_time": "2020-08-21T10:06:56.076094Z",
     "start_time": "2020-08-21T10:06:55.993207Z"
    }
   },
   "outputs": [
    {
     "name": "stdout",
     "output_type": "stream",
     "text": [
      "----------------------------------------------------------------\n",
      "        Layer (type)               Output Shape         Param #\n",
      "================================================================\n",
      "            Conv2d-1           [-1, 50, 14, 14]             850\n",
      "       BatchNorm2d-2           [-1, 50, 14, 14]             100\n",
      "            Conv2d-3             [-1, 50, 7, 7]          62,550\n",
      "       BatchNorm2d-4             [-1, 50, 7, 7]             100\n",
      "            Conv2d-5             [-1, 50, 4, 4]          62,550\n",
      "       BatchNorm2d-6             [-1, 50, 4, 4]             100\n",
      "            Linear-7                   [-1, 10]           8,010\n",
      "   ConvTranspose2d-8             [-1, 50, 4, 4]           8,050\n",
      "       BatchNorm2d-9             [-1, 50, 4, 4]             100\n",
      "  ConvTranspose2d-10             [-1, 50, 7, 7]          62,550\n",
      "      BatchNorm2d-11             [-1, 50, 7, 7]             100\n",
      "  ConvTranspose2d-12           [-1, 50, 14, 14]          62,550\n",
      "      BatchNorm2d-13           [-1, 50, 14, 14]             100\n",
      "  ConvTranspose2d-14            [-1, 1, 28, 28]             801\n",
      "================================================================\n",
      "Total params: 268,511\n",
      "Trainable params: 268,511\n",
      "Non-trainable params: 0\n",
      "----------------------------------------------------------------\n",
      "Input size (MB): 0.00\n",
      "Forward/backward pass size (MB): 0.40\n",
      "Params size (MB): 1.02\n",
      "Estimated Total Size (MB): 1.43\n",
      "----------------------------------------------------------------\n",
      "extractconvSDAE(\n",
      "  (enc_0): Conv2d(1, 50, kernel_size=(4, 4), stride=(2, 2), padding=(1, 1))\n",
      "  (benc_0): BatchNorm2d(50, eps=1e-05, momentum=0.1, affine=True, track_running_stats=True)\n",
      "  (dec_0): ConvTranspose2d(50, 1, kernel_size=(4, 4), stride=(2, 2), padding=(1, 1))\n",
      "  (bdec_0): BatchNorm2d(1, eps=1e-05, momentum=0.1, affine=True, track_running_stats=True)\n",
      "  (enc_1): Conv2d(50, 50, kernel_size=(5, 5), stride=(2, 2), padding=(2, 2))\n",
      "  (benc_1): BatchNorm2d(50, eps=1e-05, momentum=0.1, affine=True, track_running_stats=True)\n",
      "  (dec_1): ConvTranspose2d(50, 50, kernel_size=(5, 5), stride=(2, 2), padding=(2, 2), output_padding=(1, 1))\n",
      "  (bdec_1): BatchNorm2d(50, eps=1e-05, momentum=0.1, affine=True, track_running_stats=True)\n",
      "  (enc_2): Conv2d(50, 50, kernel_size=(5, 5), stride=(2, 2), padding=(2, 2))\n",
      "  (benc_2): BatchNorm2d(50, eps=1e-05, momentum=0.1, affine=True, track_running_stats=True)\n",
      "  (dec_2): ConvTranspose2d(50, 50, kernel_size=(5, 5), stride=(2, 2), padding=(2, 2))\n",
      "  (bdec_2): BatchNorm2d(50, eps=1e-05, momentum=0.1, affine=True, track_running_stats=True)\n",
      "  (enc_3): Linear(in_features=800, out_features=10, bias=True)\n",
      "  (benc_3): BatchNorm2d(10, eps=1e-05, momentum=0.1, affine=True, track_running_stats=True)\n",
      "  (dec_3): ConvTranspose2d(10, 50, kernel_size=(4, 4), stride=(1, 1))\n",
      "  (bdec_3): BatchNorm2d(50, eps=1e-05, momentum=0.1, affine=True, track_running_stats=True)\n",
      ")\n"
     ]
    }
   ],
   "source": [
    "summary(net_extract, ((1, 28, 28)))\n",
    "print(net_extract)"
   ]
  },
  {
   "cell_type": "code",
   "execution_count": null,
   "metadata": {},
   "outputs": [],
   "source": []
  }
 ],
 "metadata": {
  "kernelspec": {
   "display_name": "dcc",
   "language": "python",
   "name": "dcc"
  },
  "language_info": {
   "codemirror_mode": {
    "name": "ipython",
    "version": 3
   },
   "file_extension": ".py",
   "mimetype": "text/x-python",
   "name": "python",
   "nbconvert_exporter": "python",
   "pygments_lexer": "ipython3",
   "version": "3.6.6"
  },
  "toc": {
   "base_numbering": 1,
   "nav_menu": {},
   "number_sections": true,
   "sideBar": true,
   "skip_h1_title": false,
   "title_cell": "Table of Contents",
   "title_sidebar": "Contents",
   "toc_cell": false,
   "toc_position": {},
   "toc_section_display": true,
   "toc_window_display": false
  }
 },
 "nbformat": 4,
 "nbformat_minor": 4
}
